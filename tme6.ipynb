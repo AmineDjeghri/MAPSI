{
 "cells": [
  {
   "cell_type": "markdown",
   "metadata": {},
   "source": [
    "# TME sur la classification de lettres manuscrites\n",
    "## Format des données\n",
    "Nous travaillerons sur des lettres manuscrites.\n",
    "Les données sont fournies au format pickle (le standard de sérialisation python, particulièrement convivial). Pour les charger : "
   ]
  },
  {
   "cell_type": "code",
   "execution_count": 1,
   "metadata": {},
   "outputs": [],
   "source": [
    "import numpy as np\n",
    "import pickle as pkl\n",
    "import matplotlib.pyplot as plt\n",
    "\n",
    "with open('ressources/lettres.pkl', 'rb') as f:\n",
    "    data = pkl.load(f, encoding='latin1') \n",
    "X = np.array(data.get('letters')) # récupération des données sur les lettres\n",
    "Y = np.array(data.get('labels')) # récupération des étiquettes associées "
   ]
  },
  {
   "cell_type": "markdown",
   "metadata": {},
   "source": [
    "Les données sont dans un format original: une lettre est en fait une série d'angles (exprimés en degrés). Un exemple: "
   ]
  },
  {
   "cell_type": "code",
   "execution_count": 2,
   "metadata": {},
   "outputs": [
    {
     "data": {
      "text/plain": [
       "array([ 36.214493, 347.719116, 322.088898, 312.230957, 314.851013,\n",
       "       315.487213, 313.556702, 326.534973, 141.288971, 167.606689,\n",
       "       199.321594, 217.911087, 226.443298, 235.002472, 252.354492,\n",
       "       270.045654, 291.665161, 350.934723,  17.892815,  20.281025,\n",
       "        28.207161,  43.883423,  53.459026])"
      ]
     },
     "execution_count": 2,
     "metadata": {},
     "output_type": "execute_result"
    }
   ],
   "source": [
    "X[0]"
   ]
  },
  {
   "cell_type": "markdown",
   "metadata": {},
   "source": [
    "Lors de l'acquisition, un stylo intelligent a pris des mesures régulièrement dans le temps: chaque période correspond à un segment de droite et le stylo a calculé l'angle entre deux segments consécutifs... C'est l'information qui vous est fournie.\n",
    "\n",
    "Pour afficher une lettre, il faut reconstruire la trajectoire enregistrée... C'est ce que fait la méthode ci-dessous: "
   ]
  },
  {
   "cell_type": "code",
   "execution_count": 3,
   "metadata": {},
   "outputs": [],
   "source": [
    "# affichage d'une lettre\n",
    "def tracerLettre(let):\n",
    "    a = -let*np.pi/180; # conversion en rad\n",
    "    coord = np.array([[0, 0]]); # point initial\n",
    "    for i in range(len(a)):\n",
    "        x = np.array([[1, 0]]);\n",
    "        rot = np.array([[np.cos(a[i]), -np.sin(a[i])],[ np.sin(a[i]),np.cos(a[i])]])\n",
    "        xr = x.dot(rot) # application de la rotation\n",
    "        coord = np.vstack((coord,xr+coord[-1,:]))\n",
    "    plt.figure()\n",
    "    plt.plot(coord[:,0],coord[:,1])\n",
    "    plt.savefig(\"exlettre.png\")\n",
    "    return"
   ]
  },
  {
   "cell_type": "code",
   "execution_count": 4,
   "metadata": {},
   "outputs": [
    {
     "data": {
      "image/png": "[encoded data removed]",
      "text/plain": [
       "<Figure size 432x288 with 1 Axes>"
      ]
     },
     "metadata": {
      "needs_background": "light"
     },
     "output_type": "display_data"
    }
   ],
   "source": [
    "tracerLettre(X[12])"
   ]
  },
  {
   "cell_type": "code",
   "execution_count": 5,
   "metadata": {},
   "outputs": [
    {
     "data": {
      "text/plain": [
       "'b'"
      ]
     },
     "execution_count": 5,
     "metadata": {},
     "output_type": "execute_result"
    }
   ],
   "source": [
    "Y[12]"
   ]
  },
  {
   "cell_type": "markdown",
   "metadata": {},
   "source": [
    "##  Apprentissage d'un modèle CM (max de vraisemblance)\n",
    "### 1. Discrétisation\n",
    "\n",
    "**1 état = 1 angle**\n",
    "\n",
    "Il est nécessaire de regrouper les angles en un nombre fini d'états (par exemple 20)\n",
    "- définir un `intervalle = 360 / n_etats`\n",
    "- discrétiser tous les signaux à l'aide de la formule `np.floor(x / intervalle)`\n",
    "\n",
    "Donner le code de la méthode `discretise(x, d)` qui prend la base des signaux et retourne une base de signaux discrétisés."
   ]
  },
  {
   "cell_type": "code",
   "execution_count": 6,
   "metadata": {},
   "outputs": [],
   "source": [
    "def discretise(x, d):\n",
    "    inervalle = 360 / d\n",
    "    result = None\n",
    "    try:\n",
    "        result = np.floor(x / inervalle) \n",
    "    \n",
    "    except TypeError as error:\n",
    "        print(x)\n",
    "    return result"
   ]
  },
  {
   "cell_type": "code",
   "execution_count": 7,
   "metadata": {},
   "outputs": [
    {
     "data": {
      "text/plain": [
       "array([0., 2., 2., 2., 2., 2., 2., 2., 1., 1., 1., 1., 1., 1., 2., 2., 2.,\n",
       "       2., 0., 0., 0., 0., 0.])"
      ]
     },
     "execution_count": 7,
     "metadata": {},
     "output_type": "execute_result"
    }
   ],
   "source": [
    "discretise(X[0],3)"
   ]
  },
  {
   "cell_type": "markdown",
   "metadata": {},
   "source": [
    "**VALIDATION :** code du premier signal avec une discrétisation sur 3 états:\n",
    "```python\n",
    "array([ 0.,  2.,  2.,  2.,  2.,  2.,  2.,  2.,  1.,  1.,  1.,  1., 1., 1., 2., 2.,  2.,\n",
    "       2.,  0.,  0.,  0.,  0.,  0.])\n",
    "```"
   ]
  },
  {
   "cell_type": "markdown",
   "metadata": {},
   "source": [
    "### 2. Regrouper les indices des signaux par classe (pour faciliter l'apprentissage)"
   ]
  },
  {
   "cell_type": "code",
   "execution_count": 8,
   "metadata": {},
   "outputs": [],
   "source": [
    "def groupByLabel(y):\n",
    "    index = []\n",
    "    for i in np.unique(y): # pour toutes les classes\n",
    "        ind, = np.where(y == i)\n",
    "        index.append(ind)\n",
    "    return index"
   ]
  },
  {
   "cell_type": "markdown",
   "metadata": {},
   "source": [
    "Cette méthode produit simplement une structure type:\n",
    "```python\n",
    "[array([ 0,  1,  2,  3,  4,  5,  6,  7,  8,  9, 10]),\n",
    " array([11, 12, 13, 14, 15, 16, 17, 18, 19, 20, 21]),\n",
    " array([22, 23, 24, 25, 26, 27, 28, 29, 30, 31, 32]),\n",
    " array([33, 34, 35, 36, 37, 38, 39, 40, 41, 42, 43]),\n",
    " array([44, 45, 46, 47, 48, 49, 50, 51, 52, 53, 54]),\n",
    " array([55, 56, 57, 58, 59, 60, 61, 62, 63, 64, 65]),\n",
    " ...\n",
    "```\n",
    "Chaque ligne regroupe les indices de signaux correspondant à une classe "
   ]
  },
  {
   "cell_type": "markdown",
   "metadata": {},
   "source": [
    "### 3. Apprendre les modèles CM\n",
    "\n",
    "Soit {$X_C$} la base de signaux discrétisés correspondant à une classe {$C$} et {$d$} le nombre d'états. Donner le code de la fonction `learnMarkovModel(Xc, d)` qui retourne un tuple contenant Pi et A.\n",
    "\n",
    "Rappel:\n",
    "- Initialisation de \n",
    "```python\n",
    " A = np.zeros((d, d))\n",
    " Pi = np.zeros(d)```\n",
    "- Parcours de tous les signaux et incréments de A et Pi\n",
    "- Normalisation (un peu réfléchie pour éviter les divisions par 0)\n",
    "```python\n",
    "A = A / np.maximum(A.sum(1).reshape(d, 1), 1) # normalisation\n",
    "Pi = Pi / Pi.sum()```\n",
    "\n",
    "**Note** : la solution proposée pour gérer le cas des lignes entièrement à 0 est naïve et n'est pas totalement satisfaisante. Comprendre pourquoi. On proposera une solution améliorée plus loin dans le TME. "
   ]
  },
  {
   "cell_type": "code",
   "execution_count": 9,
   "metadata": {},
   "outputs": [],
   "source": [
    "def learnMarkovModel(Xc, d):\n",
    "    \n",
    "    A = np.zeros((d, d))\n",
    "    Pi = np.zeros(d)\n",
    "    \n",
    "    for i in range(len(Xc)):\n",
    "        Pi[int(Xc[i][0])] += 1\n",
    "        for j in range(len(Xc[i]) -1 ):\n",
    "            A[int(Xc[i][j])][int(Xc[i][j+1])] +=1   \n",
    "    A = A / np.maximum(A.sum(1).reshape(d, 1), 1) # normalisation\n",
    "    Pi = Pi / Pi.sum()\n",
    "    return Pi, A"
   ]
  },
  {
   "cell_type": "code",
   "execution_count": 10,
   "metadata": {},
   "outputs": [
    {
     "name": "stdout",
     "output_type": "stream",
     "text": [
      "(array([0.36363636, 0.        , 0.63636364]), array([[0.84444444, 0.06666667, 0.08888889],\n",
      "       [0.        , 0.83333333, 0.16666667],\n",
      "       [0.11382114, 0.06504065, 0.82113821]]))\n"
     ]
    }
   ],
   "source": [
    "a = np.array([ discretise(X[i],3)  for i in groupByLabel(Y)[0]])\n",
    "print(learnMarkovModel(a,3))\n",
    "a=None"
   ]
  },
  {
   "cell_type": "markdown",
   "metadata": {},
   "source": [
    "**Validation :** premier modèle avec une discrétisation sur 3 états :\n",
    "```python\n",
    "(array([ 0.36363636,  0.        ,  0.63636364]),\n",
    " array([[ 0.84444444,  0.06666667,  0.08888889],\n",
    "       [ 0.        ,  0.83333333,  0.16666667],\n",
    "       [ 0.11382114,  0.06504065,  0.82113821]]))\n",
    "```"
   ]
  },
  {
   "cell_type": "markdown",
   "metadata": {},
   "source": [
    "### 4. Stocker les modèles dans une liste\n",
    "\n",
    "Pour un usage ultérieur plus facile, on utilise le code suivant :"
   ]
  },
  {
   "cell_type": "code",
   "execution_count": 11,
   "metadata": {},
   "outputs": [],
   "source": [
    "def get_models(d):\n",
    "    Xd = np.array([discretise(x, d) for x in X ])    # application de la discrétisation\n",
    "    index = groupByLabel(Y)  # groupement des signaux par classe\n",
    "    models = []\n",
    "    for cl in range(len(np.unique(Y))): # parcours de toutes les classes et optimisation des modèles\n",
    "        models.append(learnMarkovModel(Xd[index[cl]], d))\n",
    "    return models,Xd"
   ]
  },
  {
   "cell_type": "markdown",
   "metadata": {},
   "source": [
    "##  Test (affectation dans les classes sur critère MV)\n",
    "### 1. (log)Probabilité d'une séquence dans un modèle\n",
    "\n",
    "Donner le code de la méthode `probaSequence(s,Pi,A)` qui retourne la log-probabilité d'une séquence `s` dans le modèle {$\\lambda=\\{Pi,A\\}$} "
   ]
  },
  {
   "cell_type": "code",
   "execution_count": 12,
   "metadata": {},
   "outputs": [
    {
     "name": "stderr",
     "output_type": "stream",
     "text": [
      "/home/ghiles/anaconda3/lib/python3.7/site-packages/ipykernel_launcher.py:4: RuntimeWarning: divide by zero encountered in log\n",
      "  after removing the cwd from sys.path.\n",
      "/home/ghiles/anaconda3/lib/python3.7/site-packages/ipykernel_launcher.py:6: RuntimeWarning: divide by zero encountered in log\n",
      "  \n"
     ]
    },
    {
     "data": {
      "text/plain": [
       "array([-13.491086  ,         -inf,         -inf,         -inf,\n",
       "               -inf,         -inf,         -inf,         -inf,\n",
       "               -inf,         -inf,         -inf,         -inf,\n",
       "               -inf,         -inf,         -inf,         -inf,\n",
       "               -inf,         -inf,         -inf,         -inf,\n",
       "               -inf,         -inf,         -inf,         -inf,\n",
       "               -inf, -12.48285678])"
      ]
     },
     "execution_count": 12,
     "metadata": {},
     "output_type": "execute_result"
    }
   ],
   "source": [
    "def probaSequence(s, Pi, A):\n",
    "    if(s[0]-int(s[0]) >0):\n",
    "        raise TypeError(type(s[0]))    \n",
    "    ml = np.log(Pi[int(s[0])])\n",
    "    for i in range(1,len(s)):\n",
    "        ml += np.log(A[ int(s[i-1])][int(s[i])])\n",
    "    return ml\n",
    "models,_ = get_models(3)\n",
    "np.array([probaSequence(discretise(X[0],3),m[0],m[1]) for m in models ]) "
   ]
  },
  {
   "cell_type": "markdown",
   "metadata": {},
   "source": [
    "**VALIDATION :** probabilité du premier signal dans les 26 modèles avec une discrétisation sur 3 états :\n",
    "```python\n",
    "array([-13.491086  ,         -inf,         -inf,         -inf,\n",
    "               -inf,         -inf,         -inf,         -inf,\n",
    "               -inf,         -inf,         -inf,         -inf,\n",
    "               -inf,         -inf,         -inf,         -inf,\n",
    "               -inf,         -inf,         -inf,         -inf,\n",
    "               -inf,         -inf,         -inf,         -inf,\n",
    "               -inf, -12.48285678])\n",
    "```\n",
    "\n",
    "- Ce signal est-il bien classé ?\n",
    "- D'où viennent tous les `-inf` ? "
   ]
  },
  {
   "cell_type": "markdown",
   "metadata": {},
   "source": [
    "On ne peut pas dire a ce que le signaleil est bien classé ou pas car on a beaucoup d'erreur a cause des probabilite a zéro dans la matrice p0 et meme dans la matrie de transition ce qui nos donne les -inf cat le log(0) est -inf "
   ]
  },
  {
   "cell_type": "markdown",
   "metadata": {},
   "source": [
    "### 2. Application de la méthode précédente pour tous les signaux et tous les modèles de lettres\n",
    "\n",
    "L'application se fait en une ligne de code si vous avez respecté les spécifications précédentes : "
   ]
  },
  {
   "cell_type": "code",
   "execution_count": 13,
   "metadata": {},
   "outputs": [
    {
     "name": "stderr",
     "output_type": "stream",
     "text": [
      "/home/ghiles/anaconda3/lib/python3.7/site-packages/ipykernel_launcher.py:4: RuntimeWarning: divide by zero encountered in log\n",
      "  after removing the cwd from sys.path.\n",
      "/home/ghiles/anaconda3/lib/python3.7/site-packages/ipykernel_launcher.py:6: RuntimeWarning: divide by zero encountered in log\n",
      "  \n"
     ]
    }
   ],
   "source": [
    "# avec une discretisation sur 20 états\n",
    "models,Xd = get_models(20)\n",
    "proba = np.array([[probaSequence(Xd[i], models[cl][0], models[cl][1]) for i in range(len(Xd))]\n",
    "                  for cl in range(len(np.unique(Y)))])"
   ]
  },
  {
   "cell_type": "code",
   "execution_count": 14,
   "metadata": {},
   "outputs": [
    {
     "name": "stderr",
     "output_type": "stream",
     "text": [
      "/home/ghiles/anaconda3/lib/python3.7/site-packages/ipykernel_launcher.py:4: RuntimeWarning: divide by zero encountered in log\n",
      "  after removing the cwd from sys.path.\n",
      "/home/ghiles/anaconda3/lib/python3.7/site-packages/ipykernel_launcher.py:6: RuntimeWarning: divide by zero encountered in log\n",
      "  \n"
     ]
    }
   ],
   "source": [
    "models,Xd = get_models(3)\n",
    "proba3 = np.array([[probaSequence(Xd[i], models[cl][0], models[cl][1]) for i in range(len(Xd))]\n",
    "                  for cl in range(len(np.unique(Y)))])"
   ]
  },
  {
   "cell_type": "markdown",
   "metadata": {},
   "source": [
    "### 3. Evaluation des performances\n",
    "\n",
    "Pour l'évaluation, nous proposons l'approche suivante: "
   ]
  },
  {
   "cell_type": "code",
   "execution_count": 15,
   "metadata": {},
   "outputs": [
    {
     "data": {
      "text/plain": [
       "0.914179104477612"
      ]
     },
     "execution_count": 15,
     "metadata": {},
     "output_type": "execute_result"
    }
   ],
   "source": [
    "#avec une discretisation à 20 état\n",
    "# calcul d'une version numérique des Y :\n",
    "Ynum = np.zeros(Y.shape)\n",
    "for num, char in enumerate(np.unique(Y)):\n",
    "    Ynum[Y == char] = num\n",
    "    \n",
    "# Calcul de la classe la plus probable :\n",
    "pred = proba.argmax(0) # max colonne par colonne\n",
    "\n",
    "# Calcul d'un pourcentage de bonne classification :\n",
    "np.where(pred != Ynum, 0.,1.).mean()"
   ]
  },
  {
   "cell_type": "code",
   "execution_count": 16,
   "metadata": {},
   "outputs": [
    {
     "data": {
      "text/plain": [
       "0.6902985074626866"
      ]
     },
     "execution_count": 16,
     "metadata": {},
     "output_type": "execute_result"
    }
   ],
   "source": [
    "#avec une discretisation à 3 état\n",
    "# Calcul de la classe la plus probable :\n",
    "pred = proba3.argmax(0) # max colonne par colonne\n",
    "\n",
    "# Calcul d'un pourcentage de bonne classification :\n",
    "np.where(pred != Ynum, 0.,1.).mean()"
   ]
  },
  {
   "cell_type": "markdown",
   "metadata": {},
   "source": [
    "**INDICE DE PERFORMANCE :** 91% de bonne classification avec 20 états, 69% avec 3 états"
   ]
  },
  {
   "cell_type": "markdown",
   "metadata": {},
   "source": [
    "## Biais d'évaluation, notion de sur-apprentissage\n",
    "\n",
    "Dans le protocole précédent, nous avons triché:\n",
    "- les données servent d'abord à apprendre les modèles...\n",
    "- puis nous nous servons des mêmes données pour tester les modèles ! Les performances sont forcément bonnes ! \n",
    "\n",
    "Afin de palier le problème, nous allons diviser en deux la base de données: une partie servira à l'apprentissage des modèles, l'autre à leur évaluation. Pour effectuer la division, nous fournissons le code suivant: "
   ]
  },
  {
   "cell_type": "code",
   "execution_count": 17,
   "metadata": {},
   "outputs": [],
   "source": [
    "# separation app/test, pc=ratio de points en apprentissage\n",
    "def separeTrainTest(y, pc):\n",
    "    indTrain = []\n",
    "    indTest = []\n",
    "    for i in np.unique(y): # pour toutes les classes\n",
    "        ind, = np.where(y == i)\n",
    "        n = len(ind)\n",
    "        indTrain.append(ind[np.random.permutation(n)][:int(np.floor(pc * n))])\n",
    "        indTest.append(np.setdiff1d(ind, indTrain[-1]))\n",
    "    return indTrain, indTest\n",
    "\n",
    "# exemple d'utilisation\n",
    "itrain, itest = separeTrainTest(Y, 0.8)"
   ]
  },
  {
   "cell_type": "markdown",
   "metadata": {},
   "source": [
    "dans `itrain`, nous obtenons les indices des signaux qui doivent servir en apprentissage pour chaque classe :"
   ]
  },
  {
   "cell_type": "code",
   "execution_count": 18,
   "metadata": {},
   "outputs": [
    {
     "data": {
      "text/plain": [
       "[array([ 9, 10,  7,  3,  6,  4,  5,  2]),\n",
       " array([13, 16, 11, 14, 18, 17, 15, 12]),\n",
       " array([26, 32, 28, 30, 29, 22, 24, 27]),\n",
       " array([34, 35, 38, 42, 41, 40, 39, 33]),\n",
       " array([44, 48, 52, 54, 49, 53, 45, 47]),\n",
       " array([57, 61, 59, 64, 62, 56, 58, 60]),\n",
       " array([72, 76, 69, 71, 68, 75, 74, 70]),\n",
       " array([82, 79, 87, 86, 83, 84, 81, 85]),\n",
       " array([91, 96, 90, 88, 92, 89, 94, 93]),\n",
       " array([107, 102, 105, 100,  99, 103, 101, 104]),\n",
       " array([117, 108, 110, 111, 113, 116, 114, 109]),\n",
       " array([123, 120, 118, 125, 124, 126, 119, 127]),\n",
       " array([137, 132, 131, 136, 129, 135, 128, 134]),\n",
       " array([139, 138, 147, 144, 142, 145, 146, 141]),\n",
       " array([148, 156, 153, 149, 152, 151, 155, 150]),\n",
       " array([166, 158, 163, 164, 160, 159, 167, 165]),\n",
       " array([175, 169, 173, 172, 170, 174, 171, 176]),\n",
       " array([183, 187, 179, 184, 181, 186, 182, 178]),\n",
       " array([194, 196, 189, 190, 192, 197, 191, 188]),\n",
       " array([201, 200, 203, 198, 206, 199, 207, 204]),\n",
       " array([208, 213, 209, 214, 216, 217, 210, 212]),\n",
       " array([226, 224, 218, 223, 227, 221, 220, 219]),\n",
       " array([228, 236, 231, 230, 229, 234, 233, 237]),\n",
       " array([238, 239, 242, 245, 247, 244, 241, 240]),\n",
       " array([257, 256, 251, 249, 250, 254, 253, 248]),\n",
       " array([266, 263, 264, 267, 261, 265, 260, 262])]"
      ]
     },
     "execution_count": 18,
     "metadata": {},
     "output_type": "execute_result"
    }
   ],
   "source": [
    "itrain"
   ]
  },
  {
   "cell_type": "markdown",
   "metadata": {},
   "source": [
    "**Note :** pour faciliter l'évaluation des modèles, vous aurez besoin de re-fusionner tous les indices d'apprentissage et de test. Cela se fait avec les lignes de code suivantes : "
   ]
  },
  {
   "cell_type": "code",
   "execution_count": 19,
   "metadata": {},
   "outputs": [],
   "source": [
    "ia = []\n",
    "for i in itrain:\n",
    "    ia += i.tolist()    \n",
    "it = []\n",
    "for i in itest:\n",
    "    it += i.tolist()"
   ]
  },
  {
   "cell_type": "markdown",
   "metadata": {},
   "source": [
    "**Note 2 :** Du fait de la permutation aléatoire, les résultats vont bouger (un peu) à chaque execution du programme. "
   ]
  },
  {
   "cell_type": "code",
   "execution_count": 20,
   "metadata": {},
   "outputs": [],
   "source": [
    "def train(itrain,d):\n",
    "    ia = []\n",
    "    for i in itrain:\n",
    "        ia += i.tolist()    \n",
    "    classes = 26\n",
    "    Xd_train = np.array([discretise(x, d) \\\n",
    "                   for cl in range(0,classes) for x in X[itrain[cl]]  ])\n",
    "    \n",
    "    index = groupByLabel(Y[ia]) \n",
    "    models = []\n",
    "    for cl in range(len(np.unique(Y[ia]))): \n",
    "        models.append(learnMarkovModel(Xd_train[index[cl]], d))\n",
    "    return models\n",
    "\n",
    "def test(itest,models,d):\n",
    "    classes=26\n",
    "    it = []\n",
    "    for i in itest:\n",
    "        it += i.tolist()\n",
    "    Xd_test = np.array([discretise(x, d) for cl in range(0,classes) for x in X[itest[cl]]  ])\n",
    "    proba = np.array([[probaSequence(Xd_test[i], models[cl][0], models[cl][1]) for i in range(len(Xd_test))]\n",
    "                  for cl in range(classes)])\n",
    "    pred = proba.argmax(0)\n",
    "    return pred,Ynum[it]\n",
    "\n",
    "def getAccuracy(d,itrain,itest):\n",
    "    models = train(itrain,d)\n",
    "    pred,y = test(itest,models,d)\n",
    "    res = np.where(pred != y , 0.,1.).mean()\n",
    "    return res\n",
    "\n",
    "def cross_validation_accuracy(d,_it=10,p=None):\n",
    "    import random\n",
    "    if( p is None):\n",
    "        p=random.uniform(0.5, 0.9)\n",
    "    accuracies = np.zeros(_it+1)\n",
    "    for itiration in range(0,_it):\n",
    "        itrain, itest = separeTrainTest(Y, p)\n",
    "        acc = getAccuracy(d,itrain,itest)\n",
    "        accuracies[itiration] = acc\n",
    "    return  accuracies.mean()\n"
   ]
  },
  {
   "cell_type": "code",
   "execution_count": 21,
   "metadata": {},
   "outputs": [
    {
     "name": "stderr",
     "output_type": "stream",
     "text": [
      "/home/ghiles/anaconda3/lib/python3.7/site-packages/ipykernel_launcher.py:4: RuntimeWarning: divide by zero encountered in log\n",
      "  after removing the cwd from sys.path.\n",
      "/home/ghiles/anaconda3/lib/python3.7/site-packages/ipykernel_launcher.py:6: RuntimeWarning: divide by zero encountered in log\n",
      "  \n"
     ]
    },
    {
     "data": {
      "image/png": "[encoded data removed]",
      "text/plain": [
       "<Figure size 432x288 with 1 Axes>"
      ]
     },
     "metadata": {
      "needs_background": "light"
     },
     "output_type": "display_data"
    }
   ],
   "source": [
    "import random\n",
    "x = np.array([ random.uniform(0.5, 0.9) for i in range(0,20)])\n",
    "x.sort()\n",
    "y = np.array([ cross_validation_accuracy(3,10,x[i]) for i in range(0,20)]) \n",
    "plt.xlabel('% data pour l\\'entrainement')\n",
    "plt.ylabel('Accuracy')\n",
    "plt.title('Accuracy en fonction de la taille des données d\\'entrainement, Initialisation de A et Pi avec des zeros')\n",
    "plt.grid(True)\n",
    "plt.plot(x,y)\n",
    "plt.show()"
   ]
  },
  {
   "cell_type": "code",
   "execution_count": 22,
   "metadata": {},
   "outputs": [
    {
     "name": "stderr",
     "output_type": "stream",
     "text": [
      "/home/ghiles/anaconda3/lib/python3.7/site-packages/ipykernel_launcher.py:4: RuntimeWarning: divide by zero encountered in log\n",
      "  after removing the cwd from sys.path.\n",
      "/home/ghiles/anaconda3/lib/python3.7/site-packages/ipykernel_launcher.py:6: RuntimeWarning: divide by zero encountered in log\n",
      "  \n"
     ]
    },
    {
     "data": {
      "image/png": "[encoded data removed]",
      "text/plain": [
       "<Figure size 432x288 with 1 Axes>"
      ]
     },
     "metadata": {
      "needs_background": "light"
     },
     "output_type": "display_data"
    }
   ],
   "source": [
    "import matplotlib.pyplot as plt\n",
    "\n",
    "x = np.arange(19)+2\n",
    "y = np.array([ cross_validation_accuracy(i,10,0.8) for i in range(2,21)]) \n",
    "plt.xlabel('% nombre d\\'états ')\n",
    "plt.ylabel('Accuracy')\n",
    "plt.title('Accuracy en fonction de nombre d\\'états, Initialisation de A et Pi avec des zeros')\n",
    "plt.grid(True)\n",
    "plt.plot(x,y)\n",
    "plt.show()"
   ]
  },
  {
   "cell_type": "markdown",
   "metadata": {},
   "source": [
    "## Lutter contre le sur-apprentissage\n",
    "Cette base de données met en lumière le phénomène de sur-apprentissage : il y a peu de données et dès que le nombre d'états augmente, il y a trop peu d'exemple pour estimer correctement les matrices {$A, \\pi$}. De nombreuses cases sont donc à 0, voire des lignes entières (d'où la sécurisation du code pour la normalisation des matrices stochastiques).\n",
    "\n",
    "Ces 0 sont particulièrement discriminants: considérant la classe {$c$}, ils permettent d'éliminer de cette classe tout signal présentant cette caractéristique. Cette règle est trop forte compte tenu de la taille de la base d'apprentissage. Nous proposons une astuce pour palier cette faiblesse : lors du comptage, initialiser les matrices {$A, \\pi$} avec ones au lieu de zeros . On fait semblant d'avoir observer une transition de chaque type avant même le début du comptage.\n",
    "\n",
    "Comparer les performances en test."
   ]
  },
  {
   "cell_type": "code",
   "execution_count": 23,
   "metadata": {},
   "outputs": [],
   "source": [
    "def _learnMarkovModel(Xc, d):\n",
    "    \n",
    "    A = np.ones((d, d))\n",
    "    Pi = np.ones(d)\n",
    "    \n",
    "    for i in range(len(Xc)):\n",
    "        Pi[int(Xc[i][0])] += 1\n",
    "        for j in range(len(Xc[i]) -1 ):\n",
    "            A[int(Xc[i][j])][int(Xc[i][j+1])] +=1   \n",
    "    A = A / np.maximum(A.sum(1).reshape(d, 1), 1) # normalisation\n",
    "    Pi = Pi / Pi.sum()\n",
    "    return Pi, A\n",
    "\n",
    "def _train(itrain,d):\n",
    "    ia = []\n",
    "    for i in itrain:\n",
    "        ia += i.tolist()    \n",
    "    classes = 26\n",
    "    Xd_train = np.array([discretise(x, d) \\\n",
    "                   for cl in range(0,classes) for x in X[itrain[cl]]  ])\n",
    "    \n",
    "    index = groupByLabel(Y[ia]) \n",
    "    models = []\n",
    "    for cl in range(len(np.unique(Y[ia]))): \n",
    "        models.append(_learnMarkovModel(Xd_train[index[cl]], d))\n",
    "    return models\n",
    "\n",
    "\n",
    "def _getAccuracy(d,itrain,itest):\n",
    "    models = _train(itrain,d)\n",
    "    pred,y = test(itest,models,d)\n",
    "    res = np.where(pred != y , 0.,1.).mean()\n",
    "    return res\n",
    "\n",
    "def _cross_validation_accuracy(d,_it=10,p=None):\n",
    "    import random\n",
    "    if( p is None):\n",
    "        p=random.uniform(0.5, 0.9)\n",
    "    accuracies = np.zeros(_it+1)\n",
    "    for itiration in range(0,_it):\n",
    "        itrain, itest = separeTrainTest(Y, p)\n",
    "        acc = _getAccuracy(d,itrain,itest)\n",
    "        accuracies[itiration] = acc\n",
    "    return  accuracies.mean()\n"
   ]
  },
  {
   "cell_type": "code",
   "execution_count": 24,
   "metadata": {},
   "outputs": [
    {
     "data": {
      "image/png": "[encoded data removed]",
      "text/plain": [
       "<Figure size 432x288 with 1 Axes>"
      ]
     },
     "metadata": {
      "needs_background": "light"
     },
     "output_type": "display_data"
    }
   ],
   "source": [
    "x = np.array([ random.uniform(0.5, 0.9) for i in range(0,20)])\n",
    "x.sort()\n",
    "y = np.array([ _cross_validation_accuracy(3,10,x[i]) for i in range(0,20)]) \n",
    "plt.xlabel('% data pour l\\'entrainement')\n",
    "plt.ylabel('Accuracy')\n",
    "plt.title('Accuracy en fonction de la taille des données d\\'entrainement, Initialisation de A et Pi avec des 1')\n",
    "plt.grid(True)\n",
    "plt.plot(x,y)\n",
    "plt.show()\n"
   ]
  },
  {
   "cell_type": "code",
   "execution_count": 25,
   "metadata": {},
   "outputs": [
    {
     "data": {
      "image/png": "[encoded data removed]",
      "text/plain": [
       "<Figure size 432x288 with 1 Axes>"
      ]
     },
     "metadata": {
      "needs_background": "light"
     },
     "output_type": "display_data"
    }
   ],
   "source": [
    "x = np.arange(19)+2\n",
    "y = np.array([ _cross_validation_accuracy(i,10,0.8) for i in range(2,21)]) \n",
    "plt.xlabel('% nombre d\\'états')\n",
    "plt.ylabel('Accuracy')\n",
    "plt.title('Accuracy en fonction de nombre d\\'états, Initialisation de A et Pi avec des 1')\n",
    "plt.grid(True)\n",
    "plt.plot(x,y)\n",
    "plt.show()"
   ]
  },
  {
   "cell_type": "markdown",
   "metadata": {},
   "source": [
    "# Partie optionnelle\n",
    "## Evaluation qualitative\n",
    "\n",
    "Nous nous demandons maintenant où se trouvent les erreurs que nous avons commises...\n",
    "\n",
    "Calcul de la matrice de confusion: pour chaque échantillon de test, nous avons une prédiction (issue du modèle) et une vérité terrain (la vraie étiquette). En posant Nc le nombre de classes, la matrice de confusion est une matrice (Nc x Nc) où nous comptons le nombre d'échantillon de test dans chaque catégorie :\n",
    "\n",
    "- Initialisation à 0 : "
   ]
  },
  {
   "cell_type": "code",
   "execution_count": 26,
   "metadata": {},
   "outputs": [],
   "source": [
    "conf = np.zeros((26,26))"
   ]
  },
  {
   "cell_type": "markdown",
   "metadata": {},
   "source": [
    "- Pour chaque échantillon, incrément de la case (prediction, vérité)"
   ]
  },
  {
   "cell_type": "code",
   "execution_count": 73,
   "metadata": {},
   "outputs": [
    {
     "name": "stderr",
     "output_type": "stream",
     "text": [
      "/home/ghiles/anaconda3/lib/python3.7/site-packages/ipykernel_launcher.py:6: RuntimeWarning: divide by zero encountered in log\n",
      "  \n",
      "/home/ghiles/anaconda3/lib/python3.7/site-packages/ipykernel_launcher.py:4: RuntimeWarning: divide by zero encountered in log\n",
      "  after removing the cwd from sys.path.\n"
     ]
    }
   ],
   "source": [
    "d = 7\n",
    "itrain, itest = separeTrainTest(Y, 0.9)\n",
    "models = train(itrain,d)\n",
    "pred,y = test(itest,models,d)\n",
    "\n",
    "for i in range(0,26):\n",
    "        conf[int(pred[i])][int(y[i])] += 1  \n"
   ]
  },
  {
   "cell_type": "markdown",
   "metadata": {},
   "source": [
    "- Tracé de la matrice : "
   ]
  },
  {
   "cell_type": "code",
   "execution_count": 74,
   "metadata": {},
   "outputs": [
    {
     "data": {
      "image/png": "[encoded data removed]",
      "text/plain": [
       "<Figure size 432x288 with 2 Axes>"
      ]
     },
     "metadata": {
      "needs_background": "light"
     },
     "output_type": "display_data"
    }
   ],
   "source": [
    "plt.figure()\n",
    "plt.imshow(conf, interpolation = 'nearest')\n",
    "plt.colorbar()\n",
    "plt.xticks(np.arange(26), np.unique(Y))\n",
    "plt.yticks(np.arange(26), np.unique(Y))\n",
    "plt.xlabel(u'Vérité terrain')\n",
    "plt.ylabel(u'Prédiction')\n",
    "plt.savefig(\"mat_conf_lettres.png\")"
   ]
  },
  {
   "cell_type": "markdown",
   "metadata": {},
   "source": [
    "## Modèle génératif\n",
    "\n",
    "Utiliser les modèles appris pour générer de nouvelles lettres manuscrites.\n",
    "\n",
    "### Tirage selon une loi de probabilité discrète\n",
    "\n",
    "- faire la somme cumulée de la loi {$sc$}\n",
    "- tirer un nombre aléatoire {$t$} entre 0 et 1\n",
    "- trouver la première valeur de {$sc$} qui est supérieure à {$t$}\n",
    "- retourner cet état \n",
    "\n",
    "**Note :** comme vu en cours, tout repose sur la somme cumulée (notée ici `sc$`, calculable en appelant `np.cumsum`. Sur un exemple: la loi `V = [0.2, 0.4, 0.3, 0.1]` a pour somme cumulée `V.cumsum() == [0.2,  0.6,  0.9,  1.0]`\n",
    "\n",
    "### Génération d'une séquence de longueur N\n",
    "\n",
    "- tirer un état {$s_0$} selon Pi\n",
    "- tant que la longueur n'est pas atteinte :\n",
    "  - tirer un état {$s_{t+1}$} selon {$A[s_{t}]$} "
   ]
  },
  {
   "cell_type": "code",
   "execution_count": 77,
   "metadata": {},
   "outputs": [],
   "source": [
    "# Votre code\n",
    "def generate(Pi,A,N):\n",
    "    r = random.random()\n",
    "    e = np.where(Pi.cumsum() > r )[0][0]\n",
    "    etats = [e]\n",
    "    for i in range(1,N):\n",
    "        r = random.random()\n",
    "        e = np.where(A[etats[i-1]].cumsum() > r )[0][0]\n",
    "        etats.append(e)\n",
    "    return etats\n",
    "models = train(itrain,3)"
   ]
  },
  {
   "cell_type": "markdown",
   "metadata": {},
   "source": [
    "### Affichage du résultat"
   ]
  },
  {
   "cell_type": "code",
   "execution_count": 78,
   "metadata": {},
   "outputs": [
    {
     "data": {
      "image/png": "[encoded data removed]",
      "text/plain": [
       "<Figure size 432x288 with 1 Axes>"
      ]
     },
     "metadata": {
      "needs_background": "light"
     },
     "output_type": "display_data"
    }
   ],
   "source": [
    "newa = generate(models[0][0], models[0][1], 20)       # generation d'une séquence d'états\n",
    "intervalle = 360. / d                                 # pour passer des états => valeur d'angles\n",
    "newa_continu = np.array([i * intervalle for i in newa]) # conv int => double\n",
    "tracerLettre(newa_continu)"
   ]
  },
  {
   "cell_type": "code",
   "execution_count": null,
   "metadata": {},
   "outputs": [],
   "source": []
  }
 ],
 "metadata": {
  "kernelspec": {
   "display_name": "Python 3",
   "language": "python",
   "name": "python3"
  },
  "language_info": {
   "codemirror_mode": {
    "name": "ipython",
    "version": 3
   },
   "file_extension": ".py",
   "mimetype": "text/x-python",
   "name": "python",
   "nbconvert_exporter": "python",
   "pygments_lexer": "ipython3",
   "version": "3.7.5"
  }
 },
 "nbformat": 4,
 "nbformat_minor": 4
}
